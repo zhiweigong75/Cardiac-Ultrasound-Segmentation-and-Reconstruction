{
 "cells": [
  {
   "cell_type": "markdown",
   "id": "19bc3ee6",
   "metadata": {
    "id": "19bc3ee6"
   },
   "source": [
    "# MIA Project 1"
   ]
  },
  {
   "cell_type": "code",
   "execution_count": null,
   "id": "rZAR93pBlUZE",
   "metadata": {
    "id": "rZAR93pBlUZE"
   },
   "outputs": [],
   "source": [
    "# Link to google drive\n",
    "from google.colab import drive\n",
    "drive.mount('/content/drive')\n"
   ]
  },
  {
   "cell_type": "markdown",
   "id": "0KehpiKH4gY1",
   "metadata": {
    "id": "0KehpiKH4gY1"
   },
   "source": [
    "Install the library for U-Net Model (segmentation_models_pytorch)"
   ]
  },
  {
   "cell_type": "code",
   "execution_count": null,
   "id": "QHsekYMAgNVj",
   "metadata": {
    "id": "QHsekYMAgNVj"
   },
   "outputs": [],
   "source": [
    "!pip install -q -U segmentation-models-pytorch albumentations > /dev/null\n",
    "import segmentation_models_pytorch as smp\n"
   ]
  },
  {
   "cell_type": "code",
   "execution_count": null,
   "id": "WlHa435uI6eH",
   "metadata": {
    "id": "WlHa435uI6eH"
   },
   "outputs": [],
   "source": [
    "!pip install SimpleITK\n",
    "import SimpleITK as sitk\n"
   ]
  },
  {
   "cell_type": "code",
   "execution_count": null,
   "id": "716db099",
   "metadata": {
    "id": "716db099"
   },
   "outputs": [],
   "source": [
    "import numpy as np\n",
    "import os\n",
    "\n",
    "import torch\n",
    "import torch.nn as nn\n",
    "from torch.autograd import Variable\n",
    "import torch.nn.functional as functional\n",
    "from torch.utils.data import Dataset, DataLoader\n",
    "\n",
    "import torchvision.models\n",
    "from torchvision import transforms\n",
    "import torchvision.transforms.functional as tF\n",
    "\n",
    "from skimage import io\n",
    "import matplotlib.pyplot as plt\n",
    "from PIL import Image\n",
    "\n",
    "from pathlib import Path\n",
    "\n",
    "import time\n",
    "\n",
    "\n",
    "device = torch.device(\"cuda\" if torch.cuda.is_available() else \"cpu\")\n",
    "# device = torch.device(\"cpu\")\n"
   ]
  },
  {
   "cell_type": "markdown",
   "id": "mvgJ9sNZ4nlz",
   "metadata": {
    "id": "mvgJ9sNZ4nlz"
   },
   "source": [
    "# Set Training Data Path"
   ]
  },
  {
   "cell_type": "code",
   "execution_count": null,
   "id": "C1V5psI8m6TK",
   "metadata": {
    "id": "C1V5psI8m6TK"
   },
   "outputs": [],
   "source": [
    "root_dir = Path('/content/drive/MyDrive/MIA23_Project1_data') # Data path\n",
    "dir_list = os.listdir(root_dir)\n",
    "dir_list.sort()\n",
    "print(dir_list)\n"
   ]
  },
  {
   "cell_type": "code",
   "execution_count": null,
   "id": "93NSsAO3uGre",
   "metadata": {
    "id": "93NSsAO3uGre"
   },
   "outputs": [],
   "source": [
    "training_data = []\n",
    "ground_truth = []\n",
    "for i in range(len(dir_list)):\n",
    "    if 'patient' in dir_list[i]:\n",
    "      \n",
    "      # Run 2 Chamber view\n",
    "\n",
    "        training_data.append(root_dir/dir_list[i]/Path(dir_list[i]+\"_2CH_ED.mhd\"))\n",
    "        training_data.append(root_dir/dir_list[i]/Path(dir_list[i]+\"_2CH_ES.mhd\"))\n",
    "        ground_truth.append(root_dir/dir_list[i]/Path(dir_list[i]+\"_2CH_ED_gt.mhd\"))\n",
    "        ground_truth.append(root_dir/dir_list[i]/Path(dir_list[i]+\"_2CH_ES_gt.mhd\"))\n",
    "\n",
    "\n",
    "      # Run 4 Chamber view\n",
    "\n",
    "        training_data.append(root_dir/dir_list[i]/Path(dir_list[i]+\"_4CH_ED.mhd\"))\n",
    "        training_data.append(root_dir/dir_list[i]/Path(dir_list[i]+\"_4CH_ES.mhd\"))\n",
    "        ground_truth.append(root_dir/dir_list[i]/Path(dir_list[i]+\"_4CH_ED_gt.mhd\"))\n",
    "        ground_truth.append(root_dir/dir_list[i]/Path(dir_list[i]+\"_4CH_ES_gt.mhd\"))\n",
    "\n",
    "print(training_data)\n",
    "print(ground_truth)\n"
   ]
  },
  {
   "cell_type": "markdown",
   "id": "eZtfeuhEU33e",
   "metadata": {
    "id": "eZtfeuhEU33e"
   },
   "source": [
    "# Data Loader"
   ]
  },
  {
   "cell_type": "code",
   "execution_count": null,
   "id": "0fgJ1BUjxd1F",
   "metadata": {
    "id": "0fgJ1BUjxd1F"
   },
   "outputs": [],
   "source": [
    "## Image Dataloader\n",
    "\n",
    "\n",
    "transform = transforms.Compose(\n",
    "    [\n",
    "        transforms.ToTensor(),\n",
    "        transforms.Resize((256, 256))\n",
    "    ]\n",
    ")\n",
    "\n",
    "\n",
    "\n",
    "class ImageDataset(Dataset):\n",
    "    \n",
    "    \"\"\"\n",
    "    ImageDataset\n",
    "    \"\"\"\n",
    "    \n",
    "    def __init__(self,\n",
    "                 img_dir,\n",
    "                 mask_dir,\n",
    "                 num_classes = 4,\n",
    "                #  transforms=None,\n",
    "                #  transforms_mask = None,\n",
    "                 data_augmentation = False):\n",
    "        \"\"\"       \n",
    "        Args:\n",
    "            img_dir (list): Path to images\n",
    "            mask_dir (list): Path to masks\n",
    "            transforms (list or None): Image transformations to apply upon loading.\n",
    "        \"\"\"\n",
    "        \n",
    "        self.img_dir = img_dir\n",
    "        self.mask_dir = mask_dir\n",
    "        \n",
    "        self.num_classes = num_classes\n",
    "        self.data_augmentation = data_augmentation\n",
    "  \n",
    "    \n",
    "    def __len__(self):\n",
    "        \"\"\"\n",
    "        \n",
    "        \"\"\"\n",
    "        return len(self.mask_dir)\n",
    "\n",
    "    \n",
    "\n",
    "    def __getitem__(self,\n",
    "                    idx):\n",
    "\n",
    "        ## Load Images and Masks\n",
    "        img_name = self.img_dir[idx]\n",
    "        mask_name = self.mask_dir[idx]\n",
    "\n",
    "        img = io.imread(img_name)\n",
    "        mask = io.imread(mask_name)\n",
    "\n",
    "        img = np.transpose(img,(1, 2, 0))\n",
    "        mask = np.transpose(mask,(1, 2, 0))\n",
    "\n",
    "        list_label = np.unique(mask)\n",
    "\n",
    "        # all labels\n",
    "        # new_label = np.zeros((mask.shape[0], mask.shape[1], len(list_label))) \n",
    "        # for i in range(len(list_label)):\n",
    "        #   new_label[:, :, i] = (mask[:, :, 0] == list_label[i])\n",
    "\n",
    "        new_label = np.zeros((mask.shape[0], mask.shape[1], 1))\n",
    "        new_label = (mask[:, :, 0] == list_label[1])\n",
    "     \n",
    "        new_img = transform(img)\n",
    "        new_mask = transform(new_label)\n",
    "  \n",
    "        return new_img, new_mask\n"
   ]
  },
  {
   "cell_type": "markdown",
   "id": "QzRsnIQNc_pN",
   "metadata": {
    "id": "QzRsnIQNc_pN"
   },
   "source": [
    "## Sanity Test"
   ]
  },
  {
   "cell_type": "code",
   "execution_count": null,
   "id": "dgjJfjvhHWt_",
   "metadata": {
    "id": "dgjJfjvhHWt_"
   },
   "outputs": [],
   "source": [
    "## Batch Size\n",
    "train_batch_size = 32\n",
    "\n",
    "## Initialize Dataloaders\n",
    "train_dataset = ImageDataset(img_dir=training_data, mask_dir=ground_truth, data_augmentation = False)\n",
    "train_dataloader = DataLoader(train_dataset, batch_size=train_batch_size, shuffle=True)\n",
    "\n",
    "dataiter = iter(train_dataloader)\n",
    "images, labels = next(dataiter)\n",
    "\n",
    "plt.figure(figsize=(15,7))\n",
    "plt.subplot(121)\n",
    "plt.imshow(images[0,:,:,:].cpu().detach().permute(1, 2, 0)[:, :, 0], cmap='gray')\n",
    "plt.subplot(122) \n",
    "plt.imshow(labels[0,:,:,:].cpu().detach().permute(1, 2, 0)[:, :, 0], cmap='gray')\n",
    "plt.title('Target/Mask')\n",
    "plt.show()\n"
   ]
  },
  {
   "cell_type": "markdown",
   "id": "qFlFsMxJl9ov",
   "metadata": {
    "id": "qFlFsMxJl9ov"
   },
   "source": [
    "# Loss Function"
   ]
  },
  {
   "cell_type": "code",
   "execution_count": null,
   "id": "DdKnsi5QmCER",
   "metadata": {
    "id": "DdKnsi5QmCER"
   },
   "outputs": [],
   "source": [
    "class DICELoss(nn.Module):\n",
    "    def __init__(self):\n",
    "        super(DICELoss, self).__init__()\n",
    "\n",
    "    def forward(self, inputs, targets):\n",
    "        num = 2.0 * torch.sum((inputs * targets), dim = [2,3])\n",
    "        den = torch.sum((inputs**2), dim=[2,3]) + torch.sum((targets**2), dim=[2,3])\n",
    "        dice = (num+1e-7) / (den+1e-7)\n",
    "        #print(dice.shape)\n",
    "        return 1. - 1.0*torch.mean(dice)\n",
    "\n",
    "\n",
    "class DiceBCELoss(nn.Module):\n",
    "    def __init__(self, weight=None, size_average=True):\n",
    "        super(DiceBCELoss, self).__init__()\n",
    "\n",
    "    def forward(self, inputs, targets, smooth=1):        \n",
    "        #flatten label and prediction tensors\n",
    "        num = 2. * torch.sum((inputs * targets), dim = [2,3])\n",
    "        den = torch.sum((inputs**2), dim=[2,3]) + torch.sum((targets**2), dim=[2,3])\n",
    "        dice = (num+1e-7) / (den+1e-7)\n",
    "        dice_loss = 1. - 1.0*torch.mean(dice)\n",
    "        \n",
    "        BCE = nn.functional.binary_cross_entropy(inputs, targets, reduction='mean')\n",
    "        Dice_BCE = BCE + dice_loss\n",
    "        \n",
    "        return Dice_BCE\n",
    "\n",
    "class IOULoss(nn.Module):\n",
    "    def __init__(self):\n",
    "        super(IOULoss, self).__init__()\n",
    "\n",
    "    def forward(self, inputs, targets):\n",
    "        num = torch.sum((inputs * targets), dim=[2,3])\n",
    "        den = torch.sum(inputs, dim=[2,3]) + torch.sum(targets, dim=[2,3]) - num\n",
    "        IOU = (num+1e-7) / (den+1e-7)\n",
    "        return 1. - 1.0*torch.mean(IOU)\n",
    "\n",
    "\n"
   ]
  },
  {
   "cell_type": "markdown",
   "id": "yuZmhvnkBMC3",
   "metadata": {
    "id": "yuZmhvnkBMC3"
   },
   "source": [
    "# Metrics"
   ]
  },
  {
   "cell_type": "code",
   "execution_count": null,
   "id": "Hj8f_Q7u0rMQ",
   "metadata": {
    "id": "Hj8f_Q7u0rMQ"
   },
   "outputs": [],
   "source": [
    "def IOU_metric(inputs, targets):\n",
    "    batch_size = inputs.shape[0]\n",
    "    IOU_batch = np.zeros(batch_size)\n",
    "    for i in range(batch_size):\n",
    "        IOU_score = 0\n",
    "        \n",
    "        prediction = inputs[i]\n",
    "        target = targets[i]                 \n",
    "        num = torch.sum(prediction * target)\n",
    "        den = torch.sum(prediction) + torch.sum(target) - num\n",
    "        \n",
    "        if torch.sum(target) == 0:\n",
    "            if torch.sum(prediction) == 0:\n",
    "                IOU_score = 1\n",
    "            else:\n",
    "                IOU_score = 0\n",
    "        else:\n",
    "            IOU_score = (num) / (den)\n",
    "        \n",
    "        IOU_batch[i] = IOU_score\n",
    "    return (IOU_batch).mean()\n",
    "\n",
    "\n",
    "\n",
    "def DICE_metric(inputs, targets):\n",
    "    batch_size = inputs.shape[0]\n",
    "    dice_batch = np.zeros(batch_size)\n",
    "    for i in range(batch_size):\n",
    "        dice_score = 0\n",
    "        prediction = inputs[i]\n",
    "        target = targets[i]                 \n",
    "        TP = torch.sum(prediction * target)\n",
    "        FP = torch.sum(torch.where(target[prediction == 1] == 0, 1, 0)).float()\n",
    "        FN = torch.sum(torch.where(target[prediction == 0] == 1, 1, 0)).float()\n",
    "\n",
    "        if torch.sum(target) == 0:\n",
    "            if FP == 0:\n",
    "                dice_score = 1\n",
    "            elif FP > 0:\n",
    "                dice_score = 0\n",
    "            else:\n",
    "                dice_score = (2 * TP + 1e-7)/(TP + FP + TP + FN + 1e-7)\n",
    "        dice_batch[i] = dice_score\n",
    "    return (dice_batch).mean()\n"
   ]
  },
  {
   "cell_type": "markdown",
   "id": "gpI2GbXwmK_w",
   "metadata": {
    "id": "gpI2GbXwmK_w"
   },
   "source": [
    "# Trainning Procedure"
   ]
  },
  {
   "cell_type": "code",
   "execution_count": null,
   "id": "dIqAwAY0yCvE",
   "metadata": {
    "id": "dIqAwAY0yCvE"
   },
   "outputs": [],
   "source": [
    "## Batch Size\n",
    "train_batch_size = 32\n",
    "validation_batch_size = 32\n",
    "\n",
    "kfold = 5\n",
    "total_size = len(training_data)\n",
    "sub_size = int(total_size/kfold)\n",
    "\n",
    "# Number of random seed\n",
    "num_seed = 1\n",
    "\n",
    "# Epochs (Consider setting high and implementing early stopping)\n",
    "#num_epochs = 3000\n",
    "num_epochs = 100\n",
    "\n",
    "#threshold\n",
    "threshold = 0.5\n",
    "\n",
    "# loss_fn = nn.BCELoss()\n",
    "# loss_fn = DICELoss()\n",
    "# loss_fn = IOULoss()\n",
    "loss_fn = DiceBCELoss()\n",
    "# loss_fn = smp.losses.DiceLoss(smp.losses.BINARY_MODE, from_logits=True)\n",
    "# loss_fn = smp.losses.JaccardLoss(smp.losses.BINARY_MODE, from_logits=True)\n",
    "\n",
    "\n",
    "all_seed_IOU = []\n",
    "all_seed_DICE = []\n",
    "all_seed_epoch = []\n",
    "\n",
    "\n",
    "for s in range(num_seed):\n",
    "    torch.manual_seed(s)\n",
    "    \n",
    "    print(\"\\n------------------------------------------------\")\n",
    "    print(f\"Seed Number: {s+1}\")\n",
    "\n",
    "    z = []\n",
    "    z = list(zip(training_data, ground_truth))\n",
    "    np.random.shuffle(z)\n",
    "    all_training_files, all_training_truth_files = zip(*z)\n",
    "\n",
    "    all_fold_IOU = []\n",
    "    all_fold_DICE = []\n",
    "    all_fold_epoch = []\n",
    "\n",
    "    for k in range(kfold):\n",
    "    # for k in [0]:\n",
    "        print(\"\\n-------------------------------\")\n",
    "        print(f\"Fold Number: {k+1}\")\n",
    "        val_img_dir = all_training_files[k*sub_size:(k+1)*sub_size]\n",
    "        val_mask_dir = all_training_truth_files[k*sub_size:(k+1)*sub_size]\n",
    "\n",
    "        if k == 0:\n",
    "          train_img_dir = all_training_files[(k+1)*sub_size:] \n",
    "          train_mask_dir = all_training_truth_files[(k+1)*sub_size:] \n",
    "          #train_img_dir.sort()\n",
    "          #train_mask_dir.sort()\n",
    "        else:\n",
    "          train_img_dir = all_training_files[0:(k)*sub_size] + all_training_files[(k+1)*sub_size:]\n",
    "          train_mask_dir = all_training_truth_files[0:(k)*sub_size] + all_training_truth_files[(k+1)*sub_size:]\n",
    "          #train_img_dir.sort()\n",
    "          #train_mask_dir.sort()\n",
    "\n",
    "        \n",
    "        ## Initialize Dataloaders\n",
    "        train_dataset = ImageDataset(img_dir=train_img_dir, mask_dir=train_mask_dir, data_augmentation = True)\n",
    "        train_dataloader = DataLoader(train_dataset, batch_size=train_batch_size, shuffle=True)\n",
    "\n",
    "        validation_dataset = ImageDataset(img_dir=val_img_dir, mask_dir=val_mask_dir, data_augmentation = False)\n",
    "        validation_dataloader = DataLoader(validation_dataset, batch_size=validation_batch_size, shuffle=True)\n",
    "\n",
    "        print(\"Start Training...\")\n",
    "        \n",
    "        model = smp.Unet(\"resnet34\", encoder_weights='imagenet', in_channels = 1, classes=1, activation='sigmoid')\n",
    "        #model = smp.Unet(\"vgg16\", encoder_weights='imagenet', classes=1, activation='sigmoid')\n",
    "        #model = smp.Unet(\"inceptionv4\", encoder_weights='imagenet', classes=1, activation='sigmoid')\n",
    "        #model = smp.Unet(\"densenet201\", encoder_weights='imagenet', in_channels = 1, classes=1, activation='sigmoid')        \n",
    "        #model = smp.FPN(\"resnet34\", encoder_weights='imagenet', decoder_dropout = 0.2, in_channels = 1, classes=1, activation='sigmoid')\n",
    "        #model = smp.PSPNet(\"resnet18\", encoder_weights='imagenet', psp_dropout = 0.2, in_channels = 1, classes=1, activation='sigmoid')\n",
    "        #model = smp.Unet(\"vgg16\", encoder_weights='imagenet', classes=1, activation='sigmoid')\n",
    "        #model = smp.Unet(\"inceptionresnetv2\", encoder_weights='imagenet', classes=1, activation='sigmoid')\n",
    "        model = model.to(device)\n",
    "\n",
    "        # model = torch.load('/content/drive/MyDrive/Colab Notebooks/Project1Model_20230512-0150_2CH_O1.pth')\n",
    "\n",
    "        #learning_rate = 0.0001\n",
    "        learning_rate = 0.001\n",
    "        #learning_rate = 0.01\n",
    "\n",
    "        ## Initialize Optimizer and Learning Rate Scheduler\n",
    "        optimizer = torch.optim.Adam(model.parameters(),lr=learning_rate)\n",
    "        #optimizer = torch.optim.SGD(model.parameters(),lr=learning_rate, momentum=0.9)\n",
    "        #scheduler = torch.optim.lr_scheduler.StepLR(optimizer, step_size=100, gamma=0.5)\n",
    "\n",
    "\n",
    "        patience = 0\n",
    "        current_val_loss = 100000000000\n",
    "        previous_val_loss = current_val_loss\n",
    "\n",
    "        epoch_train_loss = []\n",
    "        epoch_val_loss = []\n",
    "        epoch_IOU_score = []\n",
    "        epoch_DICE_score = []\n",
    "        \n",
    "        for epoch in range(num_epochs):\n",
    "            #print(\"\\nEPOCH \" +str(epoch+1)+\" of \"+str(num_epochs)+\"\\n\")\n",
    "            \n",
    "            batch_train_loss = 0\n",
    "            batch_train_length = 0\n",
    "            batch_val_loss = 0\n",
    "            batch_val_length = 0\n",
    "            batch_IOU = 0\n",
    "            batch_DICE = 0\n",
    "            batch_HD = []\n",
    "\n",
    "\n",
    "            ########################### Training ###################################\n",
    "            model.train()\n",
    "            for batch, (input, target) in enumerate(train_dataloader):\n",
    "                \n",
    "                input = input.to(device, dtype=torch.float)\n",
    "                target = target.to(device, dtype=torch.float)\n",
    "        \n",
    "                # print(input.shape)\n",
    "                \n",
    "                # Compute prediction error\n",
    "                pred = model.forward(input)\n",
    "                \n",
    "                #pred = pred.sigmoid()\n",
    "                train_loss = loss_fn(pred, target)\n",
    "                batch_train_loss += train_loss.item()\n",
    "                batch_train_length += 1\n",
    "                \n",
    "                # Backpropagation\n",
    "                optimizer.zero_grad()\n",
    "                train_loss.backward()\n",
    "                optimizer.step()\n",
    "            \n",
    "            \n",
    "            ########################### Validation #################################\n",
    "            model.eval()\n",
    "            for batch, (input, target) in enumerate(validation_dataloader):\n",
    "                \n",
    "                input = input.to(device, dtype=torch.float)\n",
    "                target = target.to(device, dtype=torch.float)\n",
    "                \n",
    "                # Compute prediction error\n",
    "                pred = model.forward(input)\n",
    "                val_loss = loss_fn(pred, target)\n",
    "                batch_val_loss += val_loss.item()\n",
    "\n",
    "                #pred = pred.sigmoid()\n",
    "                pred = (pred>threshold).float()\n",
    "\n",
    "                batch_IOU += IOU_metric(pred, target)\n",
    "                batch_DICE += DICE_metric(pred, target)\n",
    "                batch_val_length += 1\n",
    "\n",
    "\n",
    "            current_val_loss = float(batch_val_loss)/float(batch_val_length)\n",
    "            print(current_val_loss)\n",
    "\n",
    "            epoch_train_loss.append(float(batch_train_loss)/float(batch_train_length))\n",
    "            epoch_val_loss.append(current_val_loss)\n",
    "            epoch_IOU_score.append(float(batch_IOU)/float(batch_val_length))\n",
    "            epoch_DICE_score.append(float(batch_DICE)/float(batch_val_length))\n",
    "\n",
    "            \n",
    "            if current_val_loss >= previous_val_loss:\n",
    "              patience += 1\n",
    "            else:\n",
    "              patience = 0\n",
    "              previous_val_loss = current_val_loss\n",
    "\n",
    "            \n",
    "            if patience > 10:\n",
    "              learning_rate = learning_rate * 0.5\n",
    "            \n",
    "            \n",
    "            if patience > 20:\n",
    "              print(\"stop at: \", epoch+1, \" epoch\")\n",
    "              break\n",
    "\n",
    "        \n",
    "        # plot the loss\n",
    "        plt.figure(figsize=(15,4))\n",
    "        plt.title(\"Training and Validation Loss\")\n",
    "        plt.plot(epoch_train_loss,label=\"train loss\")\n",
    "        plt.plot(epoch_val_loss,label=\"validation loss\")\n",
    "        plt.xlabel(\"Number of Epoch\")\n",
    "        plt.ylabel(\"Loss\")\n",
    "        plt.legend()\n",
    "        plt.show()\n",
    "\n",
    "        \n",
    "        # plot the metrics\n",
    "        plt.figure(figsize=(15,4))\n",
    "        plt.title(\"Metrics on Validation dataset\")\n",
    "        plt.plot(epoch_IOU_score,label=\"IOU Score\")\n",
    "        plt.plot(epoch_DICE_score,label=\"DICE Score\")\n",
    "        plt.xlabel(\"Number of Epoch\")\n",
    "        plt.ylabel(\"Metrics\")\n",
    "        plt.legend()\n",
    "        plt.show()\n",
    "        \n",
    "\n",
    "        all_fold_IOU.append(float(batch_IOU)/float(batch_val_length))\n",
    "        all_fold_DICE.append(float(batch_DICE)/float(batch_val_length))\n",
    "        all_fold_epoch.append(epoch+1)\n",
    "\n",
    "        all_seed_IOU.append(float(batch_IOU)/float(batch_val_length))\n",
    "        all_seed_DICE.append(float(batch_DICE)/float(batch_val_length))\n",
    "        all_seed_epoch.append(epoch+1)\n",
    "\n",
    "    print(\"\\n-------------------------------\")\n",
    "    print(f\"Result of Seed Number: {s+1}\")\n",
    "\n",
    "    print(\"IOU:\")\n",
    "    print(\"mean: {:0.3f}\".format(np.mean(all_fold_IOU)))\n",
    "    print(\"std: {:0.3f}\".format(np.std(all_fold_IOU)))\n",
    "    print(\"max: {:0.3f}\".format(max(all_fold_IOU)))\n",
    "    print(\"min: {:0.3f}\".format(min(all_fold_IOU)))\n",
    "    print(\"ALL: \", np.around(np.array(all_fold_IOU),3))\n",
    "\n",
    "    print(\"\\n-------------------------------\")\n",
    "    print(\"DICE:\")\n",
    "    print(\"mean: {:0.3f}\".format(np.mean(all_fold_DICE)))\n",
    "    print(\"std: {:0.3f}\".format(np.std(all_fold_DICE)))\n",
    "    print(\"max: {:0.3f}\".format(max(all_fold_DICE)))\n",
    "    print(\"min: {:0.3f}\".format(min(all_fold_DICE)))\n",
    "    print(\"ALL: \", np.around(np.array(all_fold_DICE),3))\n",
    "\n",
    "\n",
    "    print(\"\\n-------------------------------\")\n",
    "    print(\"Average Epochs: {:0.3f}\".format(np.mean(all_fold_epoch)))\n"
   ]
  },
  {
   "cell_type": "markdown",
   "id": "Oam_mRZom-c2",
   "metadata": {
    "id": "Oam_mRZom-c2"
   },
   "source": [
    "Save Model"
   ]
  },
  {
   "cell_type": "code",
   "execution_count": null,
   "id": "LHdoAFH1m94J",
   "metadata": {
    "id": "LHdoAFH1m94J"
   },
   "outputs": [],
   "source": [
    "PATH = '/content/drive/MyDrive/Colab Notebooks/Project1Model_' + time.strftime(\"%Y%m%d-%H%M\") + '.pth'\n",
    "torch.save(model, PATH)"
   ]
  },
  {
   "cell_type": "markdown",
   "id": "p03R7L5PyF3L",
   "metadata": {
    "id": "p03R7L5PyF3L"
   },
   "source": [
    "# Results"
   ]
  },
  {
   "cell_type": "code",
   "execution_count": null,
   "id": "RHR9yopmw4Tn",
   "metadata": {
    "id": "RHR9yopmw4Tn"
   },
   "outputs": [],
   "source": [
    "print(\"All seed result\")\n",
    "print(\"\\n-------------------------------\")\n",
    "print(\"IOU:\")\n",
    "print(\"mean: {:0.3f}\".format(np.mean(all_seed_IOU)))\n",
    "print(\"std: {:0.3f}\".format(np.std(all_seed_IOU)))\n",
    "print(\"max: {:0.3f}\".format(max(all_seed_IOU)))\n",
    "print(\"min: {:0.3f}\".format(min(all_seed_IOU)))\n",
    "\n",
    "print(\"ALL: \", np.around(np.array(all_seed_IOU),3))\n",
    "print()\n",
    "\n",
    "print(\"\\n-------------------------------\")\n",
    "print(\"DICE:\")\n",
    "print(\"mean: {:0.3f}\".format(np.mean(all_seed_DICE)))\n",
    "print(\"std: {:0.3f}\".format(np.std(all_seed_DICE)))\n",
    "print(\"max: {:0.3f}\".format(max(all_seed_DICE)))\n",
    "print(\"min: {:0.3f}\".format(min(all_seed_DICE)))\n",
    "print(\"ALL: \", np.around(np.array(all_seed_DICE),3))\n",
    "\n",
    "print(\"\\n-------------------------------\")\n",
    "print(\"Average Epochs: {:0.3f}\".format(np.mean(all_seed_epoch)))"
   ]
  },
  {
   "cell_type": "markdown",
   "id": "U6UsYvWayMYy",
   "metadata": {
    "id": "U6UsYvWayMYy"
   },
   "source": [
    "## Visualization"
   ]
  },
  {
   "cell_type": "code",
   "execution_count": null,
   "id": "akUnH5Nv9PMJ",
   "metadata": {
    "id": "akUnH5Nv9PMJ"
   },
   "outputs": [],
   "source": [
    "def evaluation(model, dataloader):\n",
    "    n_batches = len(dataloader)\n",
    "    IOU_scores = np.zeros(n_batches)\n",
    "    DICE_scores = np.zeros(n_batches)\n",
    "    ## Evaluate\n",
    "    model.eval()\n",
    "    idx = 0\n",
    "    for data in dataloader:\n",
    "        ## Format Data\n",
    "        input, target = data\n",
    "        \n",
    "        input = input.to(device)\n",
    "        # print(input.shape)\n",
    "        target = target.to(device)\n",
    "        \n",
    "        ## Make Predictions\n",
    "        out = model(input)\n",
    "        \n",
    "        #out = out.sigmoid()\n",
    "        #out = (out).float()\n",
    "        out = (out>threshold).float()\n",
    "\n",
    "        \n",
    "        #Visualization\n",
    "        for i in range(len(input)):\n",
    "          plt.figure(figsize=(15,15))\n",
    "          plt.subplot(131)\n",
    "          plt.imshow(input[i,:,:,:].cpu().detach().permute(1, 2, 0)[:, :, 0], cmap='gray')\n",
    "        \n",
    "          plt.subplot(132) \n",
    "          plt.imshow(target[i,:,:,:].cpu().detach().permute(1, 2, 0)[:, :, 0], cmap='gray')\n",
    "          plt.title('target')\n",
    "\n",
    "          plt.subplot(133) \n",
    "          plt.imshow(out[i,:,:,:].cpu().detach().permute(1, 2, 0)[:,:,0], cmap='gray')\n",
    "          plt.title('prediction'+str(IOU_metric(out[i,:,:,:], target[i,:,:,:])))\n",
    "          plt.show()\n",
    "\n",
    "        IOU_scores[idx] = IOU_metric(out, target)\n",
    "        DICE_scores[idx] = DICE_metric(out, target)\n",
    "        idx += 1\n",
    "        \n",
    "    ## Average IOU and Dice Score Over Images\n",
    "    m_IOU = IOU_scores.mean()\n",
    "    m_dice = DICE_scores.mean()\n",
    "    print(\"IOU: \",m_IOU)\n",
    "    print(\"DICE: \", m_dice)\n",
    "    return\n"
   ]
  },
  {
   "cell_type": "code",
   "execution_count": null,
   "id": "yfZl83P5lQoF",
   "metadata": {
    "id": "yfZl83P5lQoF"
   },
   "outputs": [],
   "source": [
    "evaluation(model, validation_dataloader)"
   ]
  },
  {
   "cell_type": "markdown",
   "id": "Ck-_mheo9Cg3",
   "metadata": {
    "id": "Ck-_mheo9Cg3"
   },
   "source": [
    "# Test (Run on testset)"
   ]
  },
  {
   "cell_type": "markdown",
   "id": "eWRKEEplpWqH",
   "metadata": {
    "id": "eWRKEEplpWqH"
   },
   "source": [
    "Set testset path"
   ]
  },
  {
   "cell_type": "code",
   "execution_count": null,
   "id": "N4PiwCVipIcP",
   "metadata": {
    "id": "N4PiwCVipIcP"
   },
   "outputs": [],
   "source": [
    "root_dir = Path('/Users/ychen215/Desktop/Project1/testset') # Testset Path\n",
    "dir_list = os.listdir(root_dir)\n",
    "dir_list.sort()\n",
    "print(dir_list)"
   ]
  },
  {
   "cell_type": "markdown",
   "id": "j9anC4XV4OFf",
   "metadata": {
    "id": "j9anC4XV4OFf"
   },
   "source": [
    "Load trained model"
   ]
  },
  {
   "cell_type": "code",
   "execution_count": null,
   "id": "Km8S_Jvg4Pot",
   "metadata": {
    "id": "Km8S_Jvg4Pot"
   },
   "outputs": [],
   "source": [
    "model = smp.Unet(\"resnet34\", encoder_weights='imagenet', in_channels = 1, classes=1, activation='sigmoid')\n",
    "model = model.to(device)\n",
    "model = torch.load('/content/drive/MyDrive/Colab Notebooks/Project1Model_20230508-0501_4CH.pth', map_location=torch.device('cpu'))"
   ]
  },
  {
   "cell_type": "markdown",
   "id": "70SLFDLnjr3n",
   "metadata": {
    "id": "70SLFDLnjr3n"
   },
   "source": [
    "Save prediction to .mhd/.raw file"
   ]
  },
  {
   "cell_type": "code",
   "execution_count": null,
   "id": "UMFyIhM0A65p",
   "metadata": {
    "id": "UMFyIhM0A65p"
   },
   "outputs": [],
   "source": [
    "for i in range(len(dir_list)):\n",
    "    \n",
    "#     if i != 0 and i != 1:\n",
    "     if i != 0:\n",
    "      \n",
    "      # Run 2 Chamber view\n",
    "        \n",
    "#         seq_name = root_dir/dir_list[i]/Path(dir_list[i]+\"_2CH_sequence.mhd\")\n",
    "#         mdh_data = root_dir/dir_list[i]/Path(\"R_2CH_sequence.mhd\")\n",
    "#         mdh_data = str(root_dir/dir_list[i]/Path(\"R_2CH_sequence\"))\n",
    "#         raw_data = root_dir/dir_list[i]/Path(\"R_2CH_sequence.raw\")\n",
    "\n",
    "\n",
    "      # Run 4 Chamber view\n",
    "\n",
    "        seq_name = root_dir/dir_list[i]/Path(dir_list[i]+\"_4CH_sequence.mhd\")\n",
    "        mdh_data = root_dir/dir_list[i]/Path(\"R_4CH_sequence.mhd\")\n",
    "        mdh_data = str(root_dir/dir_list[i]/Path(\"R_4CH_sequence\"))\n",
    "        raw_data = root_dir/dir_list[i]/Path(\"R_4CH_sequence.raw\")\n",
    "      \n",
    "      # print(seq_name)\n",
    "        print(mdh_data)\n",
    "      # print(raw_data)\n",
    "    \n",
    "    \n",
    "        seq = io.imread(seq_name)\n",
    "        original_shape = seq.shape\n",
    "        \n",
    "        seq = np.transpose(seq,(1, 2, 0))\n",
    "\n",
    "        transform = transforms.Compose(\n",
    "          [\n",
    "              transforms.ToTensor(),\n",
    "              transforms.Resize((256, 256))\n",
    "          ]\n",
    "        )\n",
    "\n",
    "        new_seq = transform(seq)\n",
    "\n",
    "        output = np.zeros(original_shape)\n",
    "        input = new_seq\n",
    "        input = torch.unsqueeze(input, dim=1)\n",
    "        input = input.to(device)\n",
    "\n",
    "        out = model(input)\n",
    "        out = (out>0.5).int()\n",
    "\n",
    "        transform_back = transforms.Compose(\n",
    "          [\n",
    "              transforms.Resize((original_shape[1], original_shape[2]))\n",
    "          ]\n",
    "        )\n",
    "\n",
    "        out = transform_back(out)\n",
    "           \n",
    "        \n",
    "        for i in range(new_seq.shape[0]):\n",
    "            output[i,:,:] = out[i].cpu().detach().permute(1, 2, 0)[:,:,0]\n",
    "            \n",
    "        # Create a SimpleITK image from the numpy array\n",
    "        image = sitk.GetImageFromArray(output)\n",
    "\n",
    "        # Set the image origin and spacing\n",
    "        image.SetOrigin((0,0,0))\n",
    "        image.SetSpacing((0.308, 0.154,  1.54))        \n",
    "     \n",
    "        # Set the data type of the image to be MET_CHAR\n",
    "        image = sitk.Cast(image, sitk.sitkInt8)\n",
    "        \n",
    "        # Save the image in .mhd and .raw format\n",
    "        sitk.WriteImage(image, mdh_data + \".mhd\")\n",
    "\n"
   ]
  }
 ],
 "metadata": {
  "colab": {
   "gpuType": "T4",
   "machine_shape": "hm",
   "provenance": []
  },
  "gpuClass": "standard",
  "kernelspec": {
   "display_name": "Python 3 (ipykernel)",
   "language": "python",
   "name": "python3"
  },
  "language_info": {
   "codemirror_mode": {
    "name": "ipython",
    "version": 3
   },
   "file_extension": ".py",
   "mimetype": "text/x-python",
   "name": "python",
   "nbconvert_exporter": "python",
   "pygments_lexer": "ipython3",
   "version": "3.7.11"
  }
 },
 "nbformat": 4,
 "nbformat_minor": 5
}
