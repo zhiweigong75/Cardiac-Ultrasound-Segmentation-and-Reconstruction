{
 "cells": [
  {
   "cell_type": "code",
   "execution_count": 11,
   "id": "a6d8e7e0",
   "metadata": {},
   "outputs": [],
   "source": [
    "# Set Testset Path\n",
    "Testset_Path = 'Your Testset Path'\n",
    "\n",
    "# Set pretrained model weights path\n",
    "Model_Weights_Path = 'Your Model Weights Path' # Saved Model Weights Path\n",
    "\n",
    "\n",
    "# Set number of chamber\n",
    "num_CH = 4 # set this number of chamber as 2 or 4"
   ]
  },
  {
   "cell_type": "code",
   "execution_count": 12,
   "id": "a72213d0",
   "metadata": {},
   "outputs": [],
   "source": [
    "#Install the library for U-Net Model (segmentation_models_pytorch)\n",
    "!pip install -q -U segmentation-models-pytorch albumentations > /dev/null\n",
    "import segmentation_models_pytorch as smp"
   ]
  },
  {
   "cell_type": "code",
   "execution_count": 13,
   "id": "eb86a737",
   "metadata": {},
   "outputs": [
    {
     "name": "stdout",
     "output_type": "stream",
     "text": [
      "Requirement already satisfied: SimpleITK in /opt/anaconda3/lib/python3.7/site-packages (2.2.1)\r\n"
     ]
    }
   ],
   "source": [
    "!pip install SimpleITK\n",
    "import SimpleITK as sitk\n"
   ]
  },
  {
   "cell_type": "code",
   "execution_count": 14,
   "id": "dd78bc5f",
   "metadata": {},
   "outputs": [],
   "source": [
    "import numpy as np\n",
    "import os\n",
    "\n",
    "import torch\n",
    "import torch.nn as nn\n",
    "from torch.autograd import Variable\n",
    "import torch.nn.functional as functional\n",
    "from torch.utils.data import Dataset, DataLoader\n",
    "\n",
    "import torchvision.models\n",
    "from torchvision import transforms\n",
    "import torchvision.transforms.functional as tF\n",
    "\n",
    "from skimage import io\n",
    "import matplotlib.pyplot as plt\n",
    "from PIL import Image\n",
    "\n",
    "from pathlib import Path\n",
    "\n",
    "import time\n",
    "\n",
    "\n",
    "device = torch.device(\"cuda\" if torch.cuda.is_available() else \"cpu\")\n",
    "# device = torch.device(\"cpu\")"
   ]
  },
  {
   "cell_type": "code",
   "execution_count": 15,
   "id": "7b3e8f26",
   "metadata": {},
   "outputs": [
    {
     "name": "stdout",
     "output_type": "stream",
     "text": [
      "['.DS_Store', 'Test1', 'Test10', 'Test2', 'Test3', 'Test4', 'Test5', 'Test6', 'Test7', 'Test8', 'Test9', 'untitled.m']\n"
     ]
    }
   ],
   "source": [
    "root_dir = Path(Testset_Path) # Testset Path\n",
    "dir_list = os.listdir(root_dir)\n",
    "dir_list.sort()\n",
    "print(dir_list)"
   ]
  },
  {
   "cell_type": "code",
   "execution_count": 18,
   "id": "c7afad8c",
   "metadata": {},
   "outputs": [],
   "source": [
    "# Load model and trained model weights\n",
    "model = smp.Unet(\"resnet34\", encoder_weights='imagenet', in_channels = 1, classes=1, activation='sigmoid')\n",
    "model = model.to(device)\n",
    "model = torch.load(Model_Weights_Path, map_location=torch.device('cpu'))"
   ]
  },
  {
   "cell_type": "code",
   "execution_count": 19,
   "id": "916b143c",
   "metadata": {},
   "outputs": [
    {
     "name": "stdout",
     "output_type": "stream",
     "text": [
      "/Users/ychen215/Desktop/Project1/testset/Test1/R_4CH_sequence\n",
      "/Users/ychen215/Desktop/Project1/testset/Test10/R_4CH_sequence\n",
      "/Users/ychen215/Desktop/Project1/testset/Test2/R_4CH_sequence\n",
      "/Users/ychen215/Desktop/Project1/testset/Test3/R_4CH_sequence\n",
      "/Users/ychen215/Desktop/Project1/testset/Test4/R_4CH_sequence\n",
      "/Users/ychen215/Desktop/Project1/testset/Test5/R_4CH_sequence\n",
      "/Users/ychen215/Desktop/Project1/testset/Test6/R_4CH_sequence\n",
      "/Users/ychen215/Desktop/Project1/testset/Test7/R_4CH_sequence\n",
      "/Users/ychen215/Desktop/Project1/testset/Test8/R_4CH_sequence\n",
      "/Users/ychen215/Desktop/Project1/testset/Test9/R_4CH_sequence\n"
     ]
    }
   ],
   "source": [
    "# Run on the testset\n",
    "# Save the prediction sequence to .mhd/.raw file\n",
    "\n",
    "for i in range(len(dir_list)):\n",
    "    if 'Test' in dir_list[i]:\n",
    "        \n",
    "        # Run 2 Chamber view\n",
    "        if num_CH == 2:\n",
    "            seq_name = root_dir/dir_list[i]/Path(dir_list[i]+\"_2CH_sequence.mhd\")\n",
    "            mdh_data = root_dir/dir_list[i]/Path(\"R_2CH_sequence.mhd\")\n",
    "            mdh_data = str(root_dir/dir_list[i]/Path(\"R_2CH_sequence\"))\n",
    "            raw_data = root_dir/dir_list[i]/Path(\"R_2CH_sequence.raw\")\n",
    "\n",
    "\n",
    "        # Run 4 Chamber view\n",
    "        if num_CH == 4:\n",
    "            seq_name = root_dir/dir_list[i]/Path(dir_list[i]+\"_4CH_sequence.mhd\")\n",
    "            mdh_data = root_dir/dir_list[i]/Path(\"R_4CH_sequence.mhd\")\n",
    "            mdh_data = str(root_dir/dir_list[i]/Path(\"R_4CH_sequence\"))\n",
    "            raw_data = root_dir/dir_list[i]/Path(\"R_4CH_sequence.raw\")\n",
    "      \n",
    "      # print(seq_name)\n",
    "        print(mdh_data)\n",
    "      # print(raw_data)\n",
    "    \n",
    "    \n",
    "        seq = io.imread(seq_name)\n",
    "        original_shape = seq.shape\n",
    "        \n",
    "        seq = np.transpose(seq,(1, 2, 0))\n",
    "\n",
    "        transform = transforms.Compose(\n",
    "          [\n",
    "              transforms.ToTensor(),\n",
    "              transforms.Resize((256, 256))\n",
    "          ]\n",
    "        )\n",
    "\n",
    "        new_seq = transform(seq)\n",
    "\n",
    "        output = np.zeros(original_shape)\n",
    "        input = new_seq\n",
    "        input = torch.unsqueeze(input, dim=1)\n",
    "        input = input.to(device)\n",
    "\n",
    "        out = model(input)\n",
    "        out = (out>0.5).int()\n",
    "\n",
    "        transform_back = transforms.Compose(\n",
    "          [\n",
    "              transforms.Resize((original_shape[1], original_shape[2]))\n",
    "          ]\n",
    "        )\n",
    "\n",
    "        out = transform_back(out)\n",
    "           \n",
    "        \n",
    "        for i in range(new_seq.shape[0]):\n",
    "            output[i,:,:] = out[i].cpu().detach().permute(1, 2, 0)[:,:,0]\n",
    "            \n",
    "        # Create a SimpleITK image from the numpy array\n",
    "        image = sitk.GetImageFromArray(output)\n",
    "\n",
    "        # Set the image origin and spacing\n",
    "        image.SetOrigin((0,0,0))\n",
    "        image.SetSpacing((0.308, 0.154,  1.54))        \n",
    "     \n",
    "        # Set the data type of the image to be MET_CHAR\n",
    "        image = sitk.Cast(image, sitk.sitkInt8)\n",
    "        \n",
    "        # Save the image in .mhd and .raw format\n",
    "        sitk.WriteImage(image, mdh_data + \".mhd\")"
   ]
  }
 ],
 "metadata": {
  "kernelspec": {
   "display_name": "Python 3 (ipykernel)",
   "language": "python",
   "name": "python3"
  },
  "language_info": {
   "codemirror_mode": {
    "name": "ipython",
    "version": 3
   },
   "file_extension": ".py",
   "mimetype": "text/x-python",
   "name": "python",
   "nbconvert_exporter": "python",
   "pygments_lexer": "ipython3",
   "version": "3.7.11"
  }
 },
 "nbformat": 4,
 "nbformat_minor": 5
}
